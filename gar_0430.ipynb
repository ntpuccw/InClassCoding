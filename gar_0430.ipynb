{
 "cells": [
  {
   "cell_type": "markdown",
   "id": "b6f651b0",
   "metadata": {},
   "source": [
    "<font color=skyblue>SVM</font>\n"
   ]
  },
  {
   "cell_type": "markdown",
   "id": "c346091b",
   "metadata": {},
   "source": [
    "<font color=yellow>Loading Wine Data</font>\n"
   ]
  },
  {
   "cell_type": "code",
   "execution_count": 11,
   "id": "b678ee02",
   "metadata": {},
   "outputs": [],
   "source": [
    "import numpy as np\n",
    "import pandas as pd\n",
    "from sklearn.model_selection import train_test_split\n",
    "from sklearn.preprocessing import StandardScaler\n",
    "\n",
    "df = pd.read_excel('data/Wine.xlsx')\n",
    "X = np.array(df.iloc[:, :-1]) # 排除最後一欄標籤 N x p\n",
    "y = np.array(df.iloc[:, -1])\n",
    "\n",
    "# Split data into training and testing sets\n",
    "# 70% training, 30% testing\n",
    "X_train, X_test, y_train, y_test = train_test_split(\n",
    "    X, y, test_size=0.30)\n",
    "\n",
    "# Standardize data\n",
    "scaler = StandardScaler()\n",
    "X_train_ = scaler.fit_transform(X_train) # 標準化訓練資料\n",
    "X_test_ = scaler.fit_transform(X_test) # 標準化測試資料"
   ]
  },
  {
   "cell_type": "markdown",
   "id": "4b8fb9ce",
   "metadata": {},
   "source": [
    "<font color=yellow>SVM Classifier in scikit-learn</font>\n",
    "\n",
    "\n",
    "C 值（約束參數）與 核函數（kernel function）是較常嘗試變換的選項。"
   ]
  },
  {
   "cell_type": "code",
   "execution_count": 12,
   "id": "c67dcb98",
   "metadata": {},
   "outputs": [
    {
     "name": "stdout",
     "output_type": "stream",
     "text": [
      "Test accuracy:  0.9259259259259259\n",
      "              precision    recall  f1-score   support\n",
      "\n",
      "           1       0.95      1.00      0.98        20\n",
      "           2       1.00      0.83      0.91        24\n",
      "           3       0.77      1.00      0.87        10\n",
      "\n",
      "    accuracy                           0.93        54\n",
      "   macro avg       0.91      0.94      0.92        54\n",
      "weighted avg       0.94      0.93      0.93        54\n",
      "\n"
     ]
    }
   ],
   "source": [
    "from sklearn.svm import SVC, LinearSVC\n",
    "from sklearn.metrics import classification_report\n",
    "\n",
    "C = 1 # SVM regularization parameter\n",
    "opts = dict(C = C, tol = 1e-6, max_iter = int(1e6)) # default decision function shape is 'ovr'\n",
    "# opts = dict(C = C, decision_function_shape = ’ovo’, \\\n",
    "# tol = 1e−6, max_iter = int(1e6))\n",
    "clf_svm = SVC(kernel='linear', **opts)\n",
    "# clf_svm = SVC(kernel='rbf', gamma=0.2, **opts)\n",
    "# clf_svm = SVC(kernel='poly', degree=3, gamma='auto', **opts)\n",
    "# clf_svm = LinearSVC(**opts) # one vs the rest\n",
    "clf_svm.fit(X_train_, y_train)\n",
    "predictions = clf_svm.predict(X_test_)\n",
    "# print test accuracy\n",
    "print(\"Test accuracy: \", clf_svm.score(X_test_, y_test))\n",
    "\n",
    "print(classification_report(y_test, predictions))"
   ]
  }
 ],
 "metadata": {
  "kernelspec": {
   "display_name": "Python 3",
   "language": "python",
   "name": "python3"
  },
  "language_info": {
   "codemirror_mode": {
    "name": "ipython",
    "version": 3
   },
   "file_extension": ".py",
   "mimetype": "text/x-python",
   "name": "python",
   "nbconvert_exporter": "python",
   "pygments_lexer": "ipython3",
   "version": "3.10.5"
  }
 },
 "nbformat": 4,
 "nbformat_minor": 5
}
