{
 "cells": [
  {
   "cell_type": "markdown",
   "metadata": {},
   "source": [
    "<font color=\"skyblue\">The first program in a Jupyter notebook</font>"
   ]
  },
  {
   "cell_type": "code",
   "execution_count": 1,
   "metadata": {},
   "outputs": [
    {
     "data": {
      "application/vnd.microsoft.datawrangler.viewer.v0+json": {
       "columns": [
        {
         "name": "index",
         "rawType": "int64",
         "type": "integer"
        },
        {
         "name": "climate       ",
         "rawType": "int64",
         "type": "integer"
        },
        {
         "name": "housing       ",
         "rawType": "int64",
         "type": "integer"
        },
        {
         "name": "health        ",
         "rawType": "int64",
         "type": "integer"
        },
        {
         "name": "crime         ",
         "rawType": "int64",
         "type": "integer"
        },
        {
         "name": "transportation",
         "rawType": "int64",
         "type": "integer"
        },
        {
         "name": "education     ",
         "rawType": "int64",
         "type": "integer"
        },
        {
         "name": "arts          ",
         "rawType": "int64",
         "type": "integer"
        },
        {
         "name": "recreation    ",
         "rawType": "int64",
         "type": "integer"
        },
        {
         "name": "economics     ",
         "rawType": "int64",
         "type": "integer"
        }
       ],
       "conversionMethod": "pd.DataFrame",
       "ref": "a0c87cde-0fb4-4329-ac6b-efb10d18106e",
       "rows": [
        [
         "0",
         "521",
         "6200",
         "237",
         "923",
         "4031",
         "2757",
         "996",
         "1405",
         "7633"
        ],
        [
         "1",
         "575",
         "8138",
         "1656",
         "886",
         "4883",
         "2438",
         "5564",
         "2632",
         "4350"
        ],
        [
         "2",
         "468",
         "7339",
         "618",
         "970",
         "2531",
         "2560",
         "237",
         "859",
         "5250"
        ],
        [
         "3",
         "476",
         "7908",
         "1431",
         "610",
         "6883",
         "3399",
         "4655",
         "1617",
         "5864"
        ],
        [
         "4",
         "659",
         "8393",
         "1853",
         "1483",
         "6558",
         "3026",
         "4496",
         "2612",
         "5727"
        ]
       ],
       "shape": {
        "columns": 9,
        "rows": 5
       }
      },
      "text/html": [
       "<div>\n",
       "<style scoped>\n",
       "    .dataframe tbody tr th:only-of-type {\n",
       "        vertical-align: middle;\n",
       "    }\n",
       "\n",
       "    .dataframe tbody tr th {\n",
       "        vertical-align: top;\n",
       "    }\n",
       "\n",
       "    .dataframe thead th {\n",
       "        text-align: right;\n",
       "    }\n",
       "</style>\n",
       "<table border=\"1\" class=\"dataframe\">\n",
       "  <thead>\n",
       "    <tr style=\"text-align: right;\">\n",
       "      <th></th>\n",
       "      <th>climate</th>\n",
       "      <th>housing</th>\n",
       "      <th>health</th>\n",
       "      <th>crime</th>\n",
       "      <th>transportation</th>\n",
       "      <th>education</th>\n",
       "      <th>arts</th>\n",
       "      <th>recreation</th>\n",
       "      <th>economics</th>\n",
       "    </tr>\n",
       "  </thead>\n",
       "  <tbody>\n",
       "    <tr>\n",
       "      <th>0</th>\n",
       "      <td>521</td>\n",
       "      <td>6200</td>\n",
       "      <td>237</td>\n",
       "      <td>923</td>\n",
       "      <td>4031</td>\n",
       "      <td>2757</td>\n",
       "      <td>996</td>\n",
       "      <td>1405</td>\n",
       "      <td>7633</td>\n",
       "    </tr>\n",
       "    <tr>\n",
       "      <th>1</th>\n",
       "      <td>575</td>\n",
       "      <td>8138</td>\n",
       "      <td>1656</td>\n",
       "      <td>886</td>\n",
       "      <td>4883</td>\n",
       "      <td>2438</td>\n",
       "      <td>5564</td>\n",
       "      <td>2632</td>\n",
       "      <td>4350</td>\n",
       "    </tr>\n",
       "    <tr>\n",
       "      <th>2</th>\n",
       "      <td>468</td>\n",
       "      <td>7339</td>\n",
       "      <td>618</td>\n",
       "      <td>970</td>\n",
       "      <td>2531</td>\n",
       "      <td>2560</td>\n",
       "      <td>237</td>\n",
       "      <td>859</td>\n",
       "      <td>5250</td>\n",
       "    </tr>\n",
       "    <tr>\n",
       "      <th>3</th>\n",
       "      <td>476</td>\n",
       "      <td>7908</td>\n",
       "      <td>1431</td>\n",
       "      <td>610</td>\n",
       "      <td>6883</td>\n",
       "      <td>3399</td>\n",
       "      <td>4655</td>\n",
       "      <td>1617</td>\n",
       "      <td>5864</td>\n",
       "    </tr>\n",
       "    <tr>\n",
       "      <th>4</th>\n",
       "      <td>659</td>\n",
       "      <td>8393</td>\n",
       "      <td>1853</td>\n",
       "      <td>1483</td>\n",
       "      <td>6558</td>\n",
       "      <td>3026</td>\n",
       "      <td>4496</td>\n",
       "      <td>2612</td>\n",
       "      <td>5727</td>\n",
       "    </tr>\n",
       "  </tbody>\n",
       "</table>\n",
       "</div>"
      ],
      "text/plain": [
       "   climate         housing         health          crime           \\\n",
       "0             521            6200             237             923   \n",
       "1             575            8138            1656             886   \n",
       "2             468            7339             618             970   \n",
       "3             476            7908            1431             610   \n",
       "4             659            8393            1853            1483   \n",
       "\n",
       "   transportation  education       arts            recreation      \\\n",
       "0            4031            2757             996            1405   \n",
       "1            4883            2438            5564            2632   \n",
       "2            2531            2560             237             859   \n",
       "3            6883            3399            4655            1617   \n",
       "4            6558            3026            4496            2612   \n",
       "\n",
       "   economics       \n",
       "0            7633  \n",
       "1            4350  \n",
       "2            5250  \n",
       "3            5864  \n",
       "4            5727  "
      ]
     },
     "execution_count": 1,
     "metadata": {},
     "output_type": "execute_result"
    }
   ],
   "source": [
    "\n",
    "# load the excel file in the directory data/ and print the first 5 rows\n",
    "import pandas as pd\n",
    "import numpy as np\n",
    "\n",
    "df = pd.read_excel('data/city_quality.xlsx')\n",
    "df.head()\n"
   ]
  }
 ],
 "metadata": {
  "kernelspec": {
   "display_name": "Python 3",
   "language": "python",
   "name": "python3"
  },
  "language_info": {
   "codemirror_mode": {
    "name": "ipython",
    "version": 3
   },
   "file_extension": ".py",
   "mimetype": "text/x-python",
   "name": "python",
   "nbconvert_exporter": "python",
   "pygments_lexer": "ipython3",
   "version": "3.10.5"
  }
 },
 "nbformat": 4,
 "nbformat_minor": 2
}
