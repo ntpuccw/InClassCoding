{
 "cells": [
  {
   "cell_type": "code",
   "execution_count": 1,
   "id": "898b8037",
   "metadata": {},
   "outputs": [
    {
     "name": "stdout",
     "output_type": "stream",
     "text": [
      "t = 1.3020218377799107\n"
     ]
    }
   ],
   "source": [
    "# generate a sample of size n1 from a normal distribution with mean mu1 and standard deviation sigma1\n",
    "import numpy as np\n",
    "from scipy import stats as stat\n",
    "\n",
    "mu1, sigma1, n1 = 0, 1, 100\n",
    "mu2, sigma2, n2 = 0, 1, 100\n",
    "\n",
    "x1 = stat.norm.rvs(loc=mu1, scale=sigma1, size=n1)\n",
    "x2 = stat.norm.rvs(loc=mu2, scale=sigma2, size=n2)\n",
    "\n",
    "t = (x1.mean() - x2.mean()) / \\\n",
    "    np.sqrt(x1.var(ddof=1) / n1 + x2.var(ddof=1) / n2)\n",
    "\n",
    "print(\"t =\", t)\n"
   ]
  }
 ],
 "metadata": {
  "kernelspec": {
   "display_name": "Python 3",
   "language": "python",
   "name": "python3"
  },
  "language_info": {
   "codemirror_mode": {
    "name": "ipython",
    "version": 3
   },
   "file_extension": ".py",
   "mimetype": "text/x-python",
   "name": "python",
   "nbconvert_exporter": "python",
   "pygments_lexer": "ipython3",
   "version": "3.10.5"
  }
 },
 "nbformat": 4,
 "nbformat_minor": 5
}
